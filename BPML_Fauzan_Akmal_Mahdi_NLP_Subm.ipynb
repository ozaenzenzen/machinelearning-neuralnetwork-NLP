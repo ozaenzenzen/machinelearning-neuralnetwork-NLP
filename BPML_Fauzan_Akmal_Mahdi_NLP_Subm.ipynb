{
  "nbformat": 4,
  "nbformat_minor": 0,
  "metadata": {
    "colab": {
      "name": "BPML Fauzan Akmal Mahdi - NLP Subm.ipynb",
      "provenance": []
    },
    "kernelspec": {
      "name": "python3",
      "display_name": "Python 3"
    },
    "language_info": {
      "name": "python"
    }
  },
  "cells": [
    {
      "cell_type": "markdown",
      "metadata": {
        "id": "0FCJSMXCEKez"
      },
      "source": [
        "Fauzan Akmal Mahdi"
      ]
    },
    {
      "cell_type": "code",
      "metadata": {
        "id": "c8WiK63Mtzki"
      },
      "source": [
        "import pandas as pd                "
      ],
      "execution_count": 1,
      "outputs": []
    },
    {
      "cell_type": "markdown",
      "metadata": {
        "id": "gsGVGiv4waMh"
      },
      "source": [
        "Panggil dataset dan beri header"
      ]
    },
    {
      "cell_type": "code",
      "metadata": {
        "id": "KWy0PjqeuGL2"
      },
      "source": [
        "# dataset didapat dari link berikut https://zenodo.org/record/3355823#.YMyyV_LiuUk\n",
        "filename = 'ecommerceDataset.csv'\n",
        "\n",
        "#beri header\n",
        "header = ['label', 'sentence']\n",
        "\n",
        "#baca file menjadi dataframe\n",
        "df = pd.read_csv(filename, names=header)"
      ],
      "execution_count": 2,
      "outputs": []
    },
    {
      "cell_type": "code",
      "metadata": {
        "colab": {
          "base_uri": "https://localhost:8080/",
          "height": 419
        },
        "id": "myJpDi9Fvri9",
        "outputId": "3aea5f2c-1fa0-4f47-97d5-885532eab68f"
      },
      "source": [
        "df"
      ],
      "execution_count": 3,
      "outputs": [
        {
          "output_type": "execute_result",
          "data": {
            "text/html": [
              "<div>\n",
              "<style scoped>\n",
              "    .dataframe tbody tr th:only-of-type {\n",
              "        vertical-align: middle;\n",
              "    }\n",
              "\n",
              "    .dataframe tbody tr th {\n",
              "        vertical-align: top;\n",
              "    }\n",
              "\n",
              "    .dataframe thead th {\n",
              "        text-align: right;\n",
              "    }\n",
              "</style>\n",
              "<table border=\"1\" class=\"dataframe\">\n",
              "  <thead>\n",
              "    <tr style=\"text-align: right;\">\n",
              "      <th></th>\n",
              "      <th>label</th>\n",
              "      <th>sentence</th>\n",
              "    </tr>\n",
              "  </thead>\n",
              "  <tbody>\n",
              "    <tr>\n",
              "      <th>0</th>\n",
              "      <td>Household</td>\n",
              "      <td>Paper Plane Design Framed Wall Hanging Motivat...</td>\n",
              "    </tr>\n",
              "    <tr>\n",
              "      <th>1</th>\n",
              "      <td>Household</td>\n",
              "      <td>SAF 'Floral' Framed Painting (Wood, 30 inch x ...</td>\n",
              "    </tr>\n",
              "    <tr>\n",
              "      <th>2</th>\n",
              "      <td>Household</td>\n",
              "      <td>SAF 'UV Textured Modern Art Print Framed' Pain...</td>\n",
              "    </tr>\n",
              "    <tr>\n",
              "      <th>3</th>\n",
              "      <td>Household</td>\n",
              "      <td>SAF Flower Print Framed Painting (Synthetic, 1...</td>\n",
              "    </tr>\n",
              "    <tr>\n",
              "      <th>4</th>\n",
              "      <td>Household</td>\n",
              "      <td>Incredible Gifts India Wooden Happy Birthday U...</td>\n",
              "    </tr>\n",
              "    <tr>\n",
              "      <th>...</th>\n",
              "      <td>...</td>\n",
              "      <td>...</td>\n",
              "    </tr>\n",
              "    <tr>\n",
              "      <th>50420</th>\n",
              "      <td>Electronics</td>\n",
              "      <td>Strontium MicroSD Class 10 8GB Memory Card (Bl...</td>\n",
              "    </tr>\n",
              "    <tr>\n",
              "      <th>50421</th>\n",
              "      <td>Electronics</td>\n",
              "      <td>CrossBeats Wave Waterproof Bluetooth Wireless ...</td>\n",
              "    </tr>\n",
              "    <tr>\n",
              "      <th>50422</th>\n",
              "      <td>Electronics</td>\n",
              "      <td>Karbonn Titanium Wind W4 (White) Karbonn Titan...</td>\n",
              "    </tr>\n",
              "    <tr>\n",
              "      <th>50423</th>\n",
              "      <td>Electronics</td>\n",
              "      <td>Samsung Guru FM Plus (SM-B110E/D, Black) Colou...</td>\n",
              "    </tr>\n",
              "    <tr>\n",
              "      <th>50424</th>\n",
              "      <td>Electronics</td>\n",
              "      <td>Micromax Canvas Win W121 (White)</td>\n",
              "    </tr>\n",
              "  </tbody>\n",
              "</table>\n",
              "<p>50425 rows × 2 columns</p>\n",
              "</div>"
            ],
            "text/plain": [
              "             label                                           sentence\n",
              "0        Household  Paper Plane Design Framed Wall Hanging Motivat...\n",
              "1        Household  SAF 'Floral' Framed Painting (Wood, 30 inch x ...\n",
              "2        Household  SAF 'UV Textured Modern Art Print Framed' Pain...\n",
              "3        Household  SAF Flower Print Framed Painting (Synthetic, 1...\n",
              "4        Household  Incredible Gifts India Wooden Happy Birthday U...\n",
              "...            ...                                                ...\n",
              "50420  Electronics  Strontium MicroSD Class 10 8GB Memory Card (Bl...\n",
              "50421  Electronics  CrossBeats Wave Waterproof Bluetooth Wireless ...\n",
              "50422  Electronics  Karbonn Titanium Wind W4 (White) Karbonn Titan...\n",
              "50423  Electronics  Samsung Guru FM Plus (SM-B110E/D, Black) Colou...\n",
              "50424  Electronics                   Micromax Canvas Win W121 (White)\n",
              "\n",
              "[50425 rows x 2 columns]"
            ]
          },
          "metadata": {
            "tags": []
          },
          "execution_count": 3
        }
      ]
    },
    {
      "cell_type": "markdown",
      "metadata": {
        "id": "YGBLUqmmxrDS"
      },
      "source": [
        "Karena data berbentuk kategorikal maka dilakukan tahap\n",
        ";\n",
        "Tahap: One Hot Encoding dan membuat dataframe baru"
      ]
    },
    {
      "cell_type": "code",
      "metadata": {
        "id": "CODo_GTgxWaZ"
      },
      "source": [
        "category = pd.get_dummies(df.label)\n",
        "df_baru = pd.concat([df, category], axis=1)\n",
        "df_baru = df_baru.drop(columns='label')\n",
        "#50 ribu baris diambil sekitar 0.05 sehingga data berisi sekitar 2500 baris\n",
        "df_baru = df_baru.sample(frac=0.05)"
      ],
      "execution_count": 5,
      "outputs": []
    },
    {
      "cell_type": "code",
      "metadata": {
        "colab": {
          "base_uri": "https://localhost:8080/",
          "height": 419
        },
        "id": "EQfnCbfOzy5m",
        "outputId": "665aed6f-3087-4281-c036-3a6fd91c5a07"
      },
      "source": [
        "df_baru"
      ],
      "execution_count": 6,
      "outputs": [
        {
          "output_type": "execute_result",
          "data": {
            "text/html": [
              "<div>\n",
              "<style scoped>\n",
              "    .dataframe tbody tr th:only-of-type {\n",
              "        vertical-align: middle;\n",
              "    }\n",
              "\n",
              "    .dataframe tbody tr th {\n",
              "        vertical-align: top;\n",
              "    }\n",
              "\n",
              "    .dataframe thead th {\n",
              "        text-align: right;\n",
              "    }\n",
              "</style>\n",
              "<table border=\"1\" class=\"dataframe\">\n",
              "  <thead>\n",
              "    <tr style=\"text-align: right;\">\n",
              "      <th></th>\n",
              "      <th>sentence</th>\n",
              "      <th>Books</th>\n",
              "      <th>Clothing &amp; Accessories</th>\n",
              "      <th>Electronics</th>\n",
              "      <th>Household</th>\n",
              "    </tr>\n",
              "  </thead>\n",
              "  <tbody>\n",
              "    <tr>\n",
              "      <th>46077</th>\n",
              "      <td>Skylight</td>\n",
              "      <td>0</td>\n",
              "      <td>0</td>\n",
              "      <td>1</td>\n",
              "      <td>0</td>\n",
              "    </tr>\n",
              "    <tr>\n",
              "      <th>16665</th>\n",
              "      <td>Tool Point Silicon Waves Analogue Circuit AC, ...</td>\n",
              "      <td>0</td>\n",
              "      <td>0</td>\n",
              "      <td>0</td>\n",
              "      <td>1</td>\n",
              "    </tr>\n",
              "    <tr>\n",
              "      <th>1511</th>\n",
              "      <td>Spacewood Winner Study Table (Natural Wenge) S...</td>\n",
              "      <td>0</td>\n",
              "      <td>0</td>\n",
              "      <td>0</td>\n",
              "      <td>1</td>\n",
              "    </tr>\n",
              "    <tr>\n",
              "      <th>47129</th>\n",
              "      <td>Andride Universal Bike Holder 360 Degree Rotat...</td>\n",
              "      <td>0</td>\n",
              "      <td>0</td>\n",
              "      <td>1</td>\n",
              "      <td>0</td>\n",
              "    </tr>\n",
              "    <tr>\n",
              "      <th>45372</th>\n",
              "      <td>Generic Pro 1/4\" Mount Adapter for Tripod Scre...</td>\n",
              "      <td>0</td>\n",
              "      <td>0</td>\n",
              "      <td>1</td>\n",
              "      <td>0</td>\n",
              "    </tr>\n",
              "    <tr>\n",
              "      <th>...</th>\n",
              "      <td>...</td>\n",
              "      <td>...</td>\n",
              "      <td>...</td>\n",
              "      <td>...</td>\n",
              "      <td>...</td>\n",
              "    </tr>\n",
              "    <tr>\n",
              "      <th>29573</th>\n",
              "      <td>Olympiad Books Practice Sets - English class 8...</td>\n",
              "      <td>1</td>\n",
              "      <td>0</td>\n",
              "      <td>0</td>\n",
              "      <td>0</td>\n",
              "    </tr>\n",
              "    <tr>\n",
              "      <th>30963</th>\n",
              "      <td>Oswaal CBSE Solved Papers Class 12 English Cor...</td>\n",
              "      <td>1</td>\n",
              "      <td>0</td>\n",
              "      <td>0</td>\n",
              "      <td>0</td>\n",
              "    </tr>\n",
              "    <tr>\n",
              "      <th>19424</th>\n",
              "      <td>Dance Dance Dance From Booklist There are only...</td>\n",
              "      <td>1</td>\n",
              "      <td>0</td>\n",
              "      <td>0</td>\n",
              "      <td>0</td>\n",
              "    </tr>\n",
              "    <tr>\n",
              "      <th>6900</th>\n",
              "      <td>Mystique Table Grace 2 Ply Napkin - 90 Serviet...</td>\n",
              "      <td>0</td>\n",
              "      <td>0</td>\n",
              "      <td>0</td>\n",
              "      <td>1</td>\n",
              "    </tr>\n",
              "    <tr>\n",
              "      <th>25979</th>\n",
              "      <td>Speedo Bullet Head Snorkel Swim Training Aid T...</td>\n",
              "      <td>1</td>\n",
              "      <td>0</td>\n",
              "      <td>0</td>\n",
              "      <td>0</td>\n",
              "    </tr>\n",
              "  </tbody>\n",
              "</table>\n",
              "<p>2521 rows × 5 columns</p>\n",
              "</div>"
            ],
            "text/plain": [
              "                                                sentence  ...  Household\n",
              "46077                                          Skylight   ...          0\n",
              "16665  Tool Point Silicon Waves Analogue Circuit AC, ...  ...          1\n",
              "1511   Spacewood Winner Study Table (Natural Wenge) S...  ...          1\n",
              "47129  Andride Universal Bike Holder 360 Degree Rotat...  ...          0\n",
              "45372  Generic Pro 1/4\" Mount Adapter for Tripod Scre...  ...          0\n",
              "...                                                  ...  ...        ...\n",
              "29573  Olympiad Books Practice Sets - English class 8...  ...          0\n",
              "30963  Oswaal CBSE Solved Papers Class 12 English Cor...  ...          0\n",
              "19424  Dance Dance Dance From Booklist There are only...  ...          0\n",
              "6900   Mystique Table Grace 2 Ply Napkin - 90 Serviet...  ...          1\n",
              "25979  Speedo Bullet Head Snorkel Swim Training Aid T...  ...          0\n",
              "\n",
              "[2521 rows x 5 columns]"
            ]
          },
          "metadata": {
            "tags": []
          },
          "execution_count": 6
        }
      ]
    },
    {
      "cell_type": "code",
      "metadata": {
        "id": "KDv513MQRIS_"
      },
      "source": [
        "#ubah tipe kolom menjadi string agar bisa diolah oleh tokenizer\n",
        "kalimat = df_baru['sentence'].astype(str)\n",
        "label = df_baru[['Books','Clothing & Accessories','Electronics','Household']].values\n",
        "#label = df['label'].values"
      ],
      "execution_count": 7,
      "outputs": []
    },
    {
      "cell_type": "markdown",
      "metadata": {
        "id": "A8EoRxQswdBK"
      },
      "source": [
        "Membagi data training dan data testing"
      ]
    },
    {
      "cell_type": "code",
      "metadata": {
        "id": "RCIhVqD_v9Le"
      },
      "source": [
        "#bagi data dengan library sklearn.model_selection, data testing 0.2 atau sekitar 500 data\n",
        "from sklearn.model_selection import train_test_split\n",
        "kalimat_latih, kalimat_test, label_latih, label_test = train_test_split(kalimat, label, test_size=0.2)"
      ],
      "execution_count": 16,
      "outputs": []
    },
    {
      "cell_type": "markdown",
      "metadata": {
        "id": "mLgscmzswoTx"
      },
      "source": [
        "Tokenisasi"
      ]
    },
    {
      "cell_type": "code",
      "metadata": {
        "id": "2VDKHIbUwpHf"
      },
      "source": [
        "from tensorflow.keras.preprocessing.text import Tokenizer\n",
        "from tensorflow.keras.preprocessing.sequence import pad_sequences"
      ],
      "execution_count": 18,
      "outputs": []
    },
    {
      "cell_type": "code",
      "metadata": {
        "id": "kYN8F1iNwpkg"
      },
      "source": [
        "#ambil 2000 data untuk dilakukan tokenisasi\n",
        "tokenizer = Tokenizer(num_words=2000, oov_token=\"'\")\n",
        "tokenizer.fit_on_texts(kalimat_latih)\n",
        "tokenizer.fit_on_texts(kalimat_test)"
      ],
      "execution_count": 19,
      "outputs": []
    },
    {
      "cell_type": "code",
      "metadata": {
        "id": "xxS635S3wvbR"
      },
      "source": [
        "#ubah sekuens kalimat menjadi token\n",
        "sekuens_latih = tokenizer.texts_to_sequences(kalimat_latih)\n",
        "sekuens_test = tokenizer.texts_to_sequences(kalimat_test)"
      ],
      "execution_count": 22,
      "outputs": []
    },
    {
      "cell_type": "markdown",
      "metadata": {
        "id": "mJ2UpiKS2-sj"
      },
      "source": [
        "Embedding"
      ]
    },
    {
      "cell_type": "code",
      "metadata": {
        "id": "77ACmd9HwvrZ"
      },
      "source": [
        "#beri padding agar sama rata\n",
        "padded_latih = pad_sequences(sekuens_latih)\n",
        "padded_test = pad_sequences(sekuens_test)"
      ],
      "execution_count": 23,
      "outputs": []
    },
    {
      "cell_type": "markdown",
      "metadata": {
        "id": "k65NunvbtcVm"
      },
      "source": [
        "Membuat Model"
      ]
    },
    {
      "cell_type": "code",
      "metadata": {
        "id": "5YHUA9O3tdc_"
      },
      "source": [
        "import tensorflow as tf\n",
        "model = tf.keras.Sequential([\n",
        "    tf.keras.layers.Embedding(input_dim=2000, output_dim=16),  #input dimensi sebesar jumlah kata yang ditokenisasi & dimensi embedding 16\n",
        "    tf.keras.layers.LSTM(128), #dimensi output 64\n",
        "    tf.keras.layers.Dense(128, activation='relu'), #layer dengan 128 perceptron\n",
        "    tf.keras.layers.Dense(32, activation='relu'), #layer dengan 32 perceptron\n",
        "    tf.keras.layers.Dense(32, activation='relu'), #layer dengan 32 perceptron\n",
        "    tf.keras.layers.Dense(4, activation='softmax') # layer output dengan 4 perceptron\n",
        "])\n",
        "model.compile(loss='categorical_crossentropy',optimizer='adam',metrics=['accuracy'])"
      ],
      "execution_count": 43,
      "outputs": []
    },
    {
      "cell_type": "markdown",
      "metadata": {
        "id": "pVilOtHk0LH_"
      },
      "source": [
        "Buat Kelas Callback"
      ]
    },
    {
      "cell_type": "code",
      "metadata": {
        "id": "6ujoHAjV0MuX"
      },
      "source": [
        "#buat kelas callback untuk mempercepat proses tuning\n",
        "class myCallback(tf.keras.callbacks.Callback ):\n",
        "  def on_epoch_end(self, epoch, logs={}):\n",
        "    if(logs.get('accuracy')>0.9):\n",
        "      print(\"\\nAkurasi telah mencapai >90%!\")\n",
        "      self.model.stop_training = True\n",
        "callbacks = myCallback()"
      ],
      "execution_count": 44,
      "outputs": []
    },
    {
      "cell_type": "markdown",
      "metadata": {
        "id": "KJjdpxBltghz"
      },
      "source": [
        "Fit Model"
      ]
    },
    {
      "cell_type": "code",
      "metadata": {
        "colab": {
          "base_uri": "https://localhost:8080/"
        },
        "id": "YsWGhKwHthUo",
        "outputId": "352a874e-b7ab-451f-ccf5-0cc3e6000a8a"
      },
      "source": [
        "#15 epochs\n",
        "num_epochs = 15\n",
        "#fitting model dengan batchsize 128 dan menggunakan callback\n",
        "history = model.fit(padded_latih, label_latih, \n",
        "                    epochs=num_epochs, batch_size=128, \n",
        "                    validation_data=(padded_test, label_test), \n",
        "                    verbose=2, callbacks=[callbacks])"
      ],
      "execution_count": 45,
      "outputs": [
        {
          "output_type": "stream",
          "text": [
            "Epoch 1/15\n",
            "16/16 - 142s - loss: 1.3670 - accuracy: 0.3800 - val_loss: 1.3311 - val_accuracy: 0.4000\n",
            "Epoch 2/15\n",
            "16/16 - 131s - loss: 1.3119 - accuracy: 0.4087 - val_loss: 1.2721 - val_accuracy: 0.4317\n",
            "Epoch 3/15\n",
            "16/16 - 128s - loss: 1.1999 - accuracy: 0.4931 - val_loss: 1.0946 - val_accuracy: 0.5505\n",
            "Epoch 4/15\n",
            "16/16 - 121s - loss: 1.0021 - accuracy: 0.5670 - val_loss: 0.9003 - val_accuracy: 0.6000\n",
            "Epoch 5/15\n",
            "16/16 - 128s - loss: 0.8223 - accuracy: 0.6161 - val_loss: 0.7998 - val_accuracy: 0.6832\n",
            "Epoch 6/15\n",
            "16/16 - 115s - loss: 0.7464 - accuracy: 0.7331 - val_loss: 0.8027 - val_accuracy: 0.7327\n",
            "Epoch 7/15\n",
            "16/16 - 118s - loss: 0.4968 - accuracy: 0.8100 - val_loss: 0.5955 - val_accuracy: 0.8277\n",
            "Epoch 8/15\n",
            "16/16 - 121s - loss: 0.3465 - accuracy: 0.8854 - val_loss: 0.5427 - val_accuracy: 0.8455\n",
            "Epoch 9/15\n",
            "16/16 - 122s - loss: 0.2735 - accuracy: 0.9187 - val_loss: 0.5037 - val_accuracy: 0.8396\n",
            "\n",
            "Akurasi telah mencapai >90%!\n"
          ],
          "name": "stdout"
        }
      ]
    },
    {
      "cell_type": "markdown",
      "metadata": {
        "id": "zXx0UIsH6VSU"
      },
      "source": [
        "Plot Loss dan Akurasi dari Trained Model"
      ]
    },
    {
      "cell_type": "markdown",
      "metadata": {
        "id": "7ZCdzWRH6nwg"
      },
      "source": [
        "Plot Loss"
      ]
    },
    {
      "cell_type": "code",
      "metadata": {
        "colab": {
          "base_uri": "https://localhost:8080/",
          "height": 295
        },
        "id": "HlYcRCf46UQx",
        "outputId": "e385f3db-66ea-4a67-d35b-5c70fa5aded4"
      },
      "source": [
        "import matplotlib.pyplot as plt\n",
        "plt.plot(history.history['loss'])\n",
        "plt.title('Loss Model')\n",
        "plt.ylabel('Loss')\n",
        "plt.xlabel('Epoch')\n",
        "plt.legend(['Train'], loc='upper right')\n",
        "plt.show()"
      ],
      "execution_count": 52,
      "outputs": [
        {
          "output_type": "display_data",
          "data": {
            "image/png": "[encoded data removed]",
            "text/plain": [
              "<Figure size 432x288 with 1 Axes>"
            ]
          },
          "metadata": {
            "tags": [],
            "needs_background": "light"
          }
        }
      ]
    },
    {
      "cell_type": "markdown",
      "metadata": {
        "id": "OxJMagLP6p35"
      },
      "source": [
        "Plot Akurasi"
      ]
    },
    {
      "cell_type": "code",
      "metadata": {
        "colab": {
          "base_uri": "https://localhost:8080/",
          "height": 295
        },
        "id": "7uBx0arD6mQr",
        "outputId": "51708e4b-3ec0-41ed-c9af-959a0b7c1184"
      },
      "source": [
        "plt.plot(history.history['accuracy'])\n",
        "plt.title('Akurasi Model')\n",
        "plt.ylabel('Accuracy')\n",
        "plt.xlabel('Epoch')\n",
        "plt.legend(['Train'], loc='lower right')\n",
        "plt.show()"
      ],
      "execution_count": 53,
      "outputs": [
        {
          "output_type": "display_data",
          "data": {
            "image/png": "[encoded data removed]",
            "text/plain": [
              "<Figure size 432x288 with 1 Axes>"
            ]
          },
          "metadata": {
            "tags": [],
            "needs_background": "light"
          }
        }
      ]
    }
  ]
}